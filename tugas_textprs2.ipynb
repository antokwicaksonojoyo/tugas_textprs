{
 "cells": [
  {
   "cell_type": "code",
   "execution_count": 14,
   "id": "5db0dd26",
   "metadata": {},
   "outputs": [
    {
     "data": {
      "text/plain": [
       "['Treat every occurrence as having “positive negative” effects. Good examples of such repercussions are the rise of productivity at the cost of child labor and increased city dwelling that lead coincidentally to both urban development and horrible living conditions.',\n",
       " 'Industrial revolution essay positive and negative effects go beyond everyday-life. The on-going processes affected politics, economics, and even diplomacy.',\n",
       " 'Thus, each action had different reactions that you should acknowledge to present a well-rounded argument.']"
      ]
     },
     "execution_count": 14,
     "metadata": {},
     "output_type": "execute_result"
    }
   ],
   "source": [
    "corpus = [\n",
    "    'Treat every occurrence as having “positive negative” effects. Good examples of such repercussions are the rise of productivity at the cost of child labor and increased city dwelling that lead coincidentally to both urban development and horrible living conditions.',\n",
    "    'Industrial revolution essay positive and negative effects go beyond everyday-life. The on-going processes affected politics, economics, and even diplomacy.',\n",
    "    'Thus, each action had different reactions that you should acknowledge to present a well-rounded argument.'\n",
    "]\n",
    "corpus"
   ]
  },
  {
   "cell_type": "code",
   "execution_count": 15,
   "id": "1428c351",
   "metadata": {},
   "outputs": [
    {
     "data": {
      "text/plain": [
       "matrix([[0, 0, 0, 2, 1, 0, 1, 1, 0, 1, 1, 1, 1, 1, 1, 1, 0, 0, 1, 0, 0,\n",
       "         1, 0, 0, 1, 0, 1, 0, 0, 1, 0, 1, 1, 1, 0, 1, 1, 0, 1, 1, 1, 3,\n",
       "         0, 0, 1, 0, 0, 1, 0, 1, 0, 1, 0, 0, 1, 1, 2, 0, 1, 1, 1, 0, 0],\n",
       "        [0, 0, 1, 2, 0, 0, 0, 0, 1, 0, 0, 0, 0, 0, 0, 0, 0, 1, 0, 0, 1,\n",
       "         1, 1, 1, 0, 1, 0, 1, 1, 0, 0, 0, 0, 0, 1, 0, 0, 1, 0, 1, 0, 0,\n",
       "         1, 1, 1, 0, 1, 0, 0, 0, 1, 0, 0, 0, 0, 0, 1, 0, 0, 0, 0, 0, 0],\n",
       "        [1, 1, 0, 0, 0, 1, 0, 0, 0, 0, 0, 0, 0, 0, 0, 0, 1, 0, 0, 1, 0,\n",
       "         0, 0, 0, 0, 0, 0, 0, 0, 0, 1, 0, 0, 0, 0, 0, 0, 0, 0, 0, 0, 0,\n",
       "         0, 0, 0, 1, 0, 0, 1, 0, 0, 0, 1, 1, 0, 1, 0, 1, 1, 0, 0, 1, 1]],\n",
       "       dtype=int64)"
      ]
     },
     "execution_count": 15,
     "metadata": {},
     "output_type": "execute_result"
    }
   ],
   "source": [
    "from sklearn.feature_extraction.text import CountVectorizer\n",
    "\n",
    "vectorizer = CountVectorizer()\n",
    "vectorizer_X = vectorizer.fit_transform(corpus).todense()\n",
    "vectorizer_X"
   ]
  },
  {
   "cell_type": "code",
   "execution_count": 16,
   "id": "70c92477",
   "metadata": {},
   "outputs": [
    {
     "data": {
      "text/plain": [
       "['acknowledge',\n",
       " 'action',\n",
       " 'affected',\n",
       " 'and',\n",
       " 'are',\n",
       " 'argument',\n",
       " 'as',\n",
       " 'at',\n",
       " 'beyond',\n",
       " 'both',\n",
       " 'child',\n",
       " 'city',\n",
       " 'coincidentally',\n",
       " 'conditions',\n",
       " 'cost',\n",
       " 'development',\n",
       " 'different',\n",
       " 'diplomacy',\n",
       " 'dwelling',\n",
       " 'each',\n",
       " 'economics',\n",
       " 'effects',\n",
       " 'essay',\n",
       " 'even',\n",
       " 'every',\n",
       " 'everyday',\n",
       " 'examples',\n",
       " 'go',\n",
       " 'going',\n",
       " 'good',\n",
       " 'had',\n",
       " 'having',\n",
       " 'horrible',\n",
       " 'increased',\n",
       " 'industrial',\n",
       " 'labor',\n",
       " 'lead',\n",
       " 'life',\n",
       " 'living',\n",
       " 'negative',\n",
       " 'occurrence',\n",
       " 'of',\n",
       " 'on',\n",
       " 'politics',\n",
       " 'positive',\n",
       " 'present',\n",
       " 'processes',\n",
       " 'productivity',\n",
       " 'reactions',\n",
       " 'repercussions',\n",
       " 'revolution',\n",
       " 'rise',\n",
       " 'rounded',\n",
       " 'should',\n",
       " 'such',\n",
       " 'that',\n",
       " 'the',\n",
       " 'thus',\n",
       " 'to',\n",
       " 'treat',\n",
       " 'urban',\n",
       " 'well',\n",
       " 'you']"
      ]
     },
     "execution_count": 16,
     "metadata": {},
     "output_type": "execute_result"
    }
   ],
   "source": [
    "vectorizer.get_feature_names()"
   ]
  },
  {
   "cell_type": "code",
   "execution_count": 18,
   "id": "6152488d",
   "metadata": {},
   "outputs": [
    {
     "name": "stdout",
     "output_type": "stream",
     "text": [
      "Jarak dokumen 1 dan 2: [[7.34846923]]\n",
      "Jarak dokumen 1 dan 3: [[7.74596669]]\n",
      "Jarak dokumen 2 dan 3: [[6.164414]]\n"
     ]
    }
   ],
   "source": [
    "from sklearn.metrics.pairwise import euclidean_distances\n",
    "\n",
    "for i in range(len(vectorizer_X)) :\n",
    "    for j in range(i, len (vectorizer_X)):\n",
    "        if i == j:\n",
    "            continue\n",
    "        jarak = euclidean_distances(vectorizer_X[i], vectorizer_X[j])\n",
    "        print(f'Jarak dokumen {i+1} dan {j+1}: {jarak}')"
   ]
  },
  {
   "cell_type": "code",
   "execution_count": 20,
   "id": "9f9055eb",
   "metadata": {},
   "outputs": [
    {
     "data": {
      "text/plain": [
       "matrix([[0, 0, 0, 0, 1, 1, 1, 1, 1, 1, 0, 0, 1, 0, 1, 0, 0, 1, 0, 1, 1,\n",
       "         1, 1, 0, 1, 1, 0, 1, 1, 1, 0, 1, 0, 0, 1, 0, 1, 0, 1, 0, 1, 1],\n",
       "        [0, 0, 1, 0, 0, 0, 0, 0, 0, 0, 0, 1, 0, 1, 1, 1, 1, 0, 1, 0, 0,\n",
       "         0, 0, 1, 0, 0, 1, 0, 1, 0, 1, 1, 0, 1, 0, 0, 0, 1, 0, 0, 0, 0],\n",
       "        [1, 1, 0, 1, 0, 0, 0, 0, 0, 0, 1, 0, 0, 0, 0, 0, 0, 0, 0, 0, 0,\n",
       "         0, 0, 0, 0, 0, 0, 0, 0, 0, 0, 0, 1, 0, 0, 1, 0, 0, 0, 1, 0, 0]],\n",
       "       dtype=int64)"
      ]
     },
     "execution_count": 20,
     "metadata": {},
     "output_type": "execute_result"
    }
   ],
   "source": [
    "from sklearn.feature_extraction.text import CountVectorizer\n",
    "\n",
    "vectorizer = CountVectorizer(stop_words='english')\n",
    "vectorizer_X = vectorizer.fit_transform(corpus).todense()\n",
    "vectorizer_X"
   ]
  },
  {
   "cell_type": "code",
   "execution_count": 21,
   "id": "37649f26",
   "metadata": {},
   "outputs": [
    {
     "data": {
      "text/plain": [
       "['acknowledge',\n",
       " 'action',\n",
       " 'affected',\n",
       " 'argument',\n",
       " 'child',\n",
       " 'city',\n",
       " 'coincidentally',\n",
       " 'conditions',\n",
       " 'cost',\n",
       " 'development',\n",
       " 'different',\n",
       " 'diplomacy',\n",
       " 'dwelling',\n",
       " 'economics',\n",
       " 'effects',\n",
       " 'essay',\n",
       " 'everyday',\n",
       " 'examples',\n",
       " 'going',\n",
       " 'good',\n",
       " 'having',\n",
       " 'horrible',\n",
       " 'increased',\n",
       " 'industrial',\n",
       " 'labor',\n",
       " 'lead',\n",
       " 'life',\n",
       " 'living',\n",
       " 'negative',\n",
       " 'occurrence',\n",
       " 'politics',\n",
       " 'positive',\n",
       " 'present',\n",
       " 'processes',\n",
       " 'productivity',\n",
       " 'reactions',\n",
       " 'repercussions',\n",
       " 'revolution',\n",
       " 'rise',\n",
       " 'rounded',\n",
       " 'treat',\n",
       " 'urban']"
      ]
     },
     "execution_count": 21,
     "metadata": {},
     "output_type": "execute_result"
    }
   ],
   "source": [
    "vectorizer.get_feature_names()"
   ]
  },
  {
   "cell_type": "code",
   "execution_count": null,
   "id": "c070a075",
   "metadata": {},
   "outputs": [],
   "source": []
  }
 ],
 "metadata": {
  "kernelspec": {
   "display_name": "Python 3",
   "language": "python",
   "name": "python3"
  },
  "language_info": {
   "codemirror_mode": {
    "name": "ipython",
    "version": 3
   },
   "file_extension": ".py",
   "mimetype": "text/x-python",
   "name": "python",
   "nbconvert_exporter": "python",
   "pygments_lexer": "ipython3",
   "version": "3.8.8"
  }
 },
 "nbformat": 4,
 "nbformat_minor": 5
}
